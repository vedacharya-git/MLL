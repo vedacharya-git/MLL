{
 "cells": [
  {
   "cell_type": "markdown",
   "id": "56043eebc7f6d85f",
   "metadata": {
    "collapsed": false
   },
   "source": [
    "## Importing necessary libraries"
   ]
  },
  {
   "cell_type": "code",
   "execution_count": 1,
   "id": "91554f765e75f8cc",
   "metadata": {
    "ExecuteTime": {
     "end_time": "2024-02-06T04:48:47.772816600Z",
     "start_time": "2024-02-06T04:48:47.248209200Z"
    },
    "collapsed": false
   },
   "outputs": [],
   "source": [
    "import numpy as np\n",
    "import pandas as pd"
   ]
  },
  {
   "cell_type": "markdown",
   "id": "9170ab31b0990c60",
   "metadata": {
    "collapsed": false
   },
   "source": [
    "## Loading the dataset"
   ]
  },
  {
   "cell_type": "code",
   "execution_count": 2,
   "id": "15c0af3bb4e24106",
   "metadata": {
    "ExecuteTime": {
     "end_time": "2024-02-06T04:48:48.686754300Z",
     "start_time": "2024-02-06T04:48:48.642530900Z"
    },
    "collapsed": false
   },
   "outputs": [],
   "source": [
    "ddata = pd.read_csv(\"resources/divorce.csv\")"
   ]
  },
  {
   "cell_type": "markdown",
   "id": "ad3055d9f8e8ae7c",
   "metadata": {
    "collapsed": false
   },
   "source": [
    "## Displaying the first few rows of the dataset"
   ]
  },
  {
   "cell_type": "code",
   "execution_count": 3,
   "id": "6e23ee2ec2ba0db3",
   "metadata": {
    "ExecuteTime": {
     "end_time": "2024-02-06T04:48:50.033872100Z",
     "start_time": "2024-02-06T04:48:50.017348600Z"
    },
    "collapsed": false
   },
   "outputs": [
    {
     "data": {
      "text/html": [
       "<div>\n",
       "<style scoped>\n",
       "    .dataframe tbody tr th:only-of-type {\n",
       "        vertical-align: middle;\n",
       "    }\n",
       "\n",
       "    .dataframe tbody tr th {\n",
       "        vertical-align: top;\n",
       "    }\n",
       "\n",
       "    .dataframe thead th {\n",
       "        text-align: right;\n",
       "    }\n",
       "</style>\n",
       "<table border=\"1\" class=\"dataframe\">\n",
       "  <thead>\n",
       "    <tr style=\"text-align: right;\">\n",
       "      <th></th>\n",
       "      <th>divorce_date</th>\n",
       "      <th>dob_man</th>\n",
       "      <th>education_man</th>\n",
       "      <th>income_man</th>\n",
       "      <th>dob_woman</th>\n",
       "      <th>education_woman</th>\n",
       "      <th>income_woman</th>\n",
       "      <th>marriage_date</th>\n",
       "      <th>marriage_duration</th>\n",
       "      <th>num_kids</th>\n",
       "    </tr>\n",
       "  </thead>\n",
       "  <tbody>\n",
       "    <tr>\n",
       "      <th>0</th>\n",
       "      <td>2006-09-06</td>\n",
       "      <td>1975-12-18</td>\n",
       "      <td>Secondary</td>\n",
       "      <td>2000.0</td>\n",
       "      <td>1983-08-01</td>\n",
       "      <td>Secondary</td>\n",
       "      <td>1800.0</td>\n",
       "      <td>2000-06-26</td>\n",
       "      <td>5.0</td>\n",
       "      <td>1.0</td>\n",
       "    </tr>\n",
       "    <tr>\n",
       "      <th>1</th>\n",
       "      <td>2008-01-02</td>\n",
       "      <td>1976-11-17</td>\n",
       "      <td>Professional</td>\n",
       "      <td>6000.0</td>\n",
       "      <td>1977-03-13</td>\n",
       "      <td>Professional</td>\n",
       "      <td>6000.0</td>\n",
       "      <td>2001-09-02</td>\n",
       "      <td>7.0</td>\n",
       "      <td>NaN</td>\n",
       "    </tr>\n",
       "    <tr>\n",
       "      <th>2</th>\n",
       "      <td>2011-01-02</td>\n",
       "      <td>1969-04-06</td>\n",
       "      <td>Preparatory</td>\n",
       "      <td>5000.0</td>\n",
       "      <td>1970-02-16</td>\n",
       "      <td>Professional</td>\n",
       "      <td>5000.0</td>\n",
       "      <td>2000-02-02</td>\n",
       "      <td>2.0</td>\n",
       "      <td>2.0</td>\n",
       "    </tr>\n",
       "    <tr>\n",
       "      <th>3</th>\n",
       "      <td>2011-01-02</td>\n",
       "      <td>1979-11-13</td>\n",
       "      <td>Secondary</td>\n",
       "      <td>12000.0</td>\n",
       "      <td>1981-05-13</td>\n",
       "      <td>Secondary</td>\n",
       "      <td>12000.0</td>\n",
       "      <td>2006-05-13</td>\n",
       "      <td>2.0</td>\n",
       "      <td>NaN</td>\n",
       "    </tr>\n",
       "    <tr>\n",
       "      <th>4</th>\n",
       "      <td>2011-01-02</td>\n",
       "      <td>1982-09-20</td>\n",
       "      <td>Professional</td>\n",
       "      <td>6000.0</td>\n",
       "      <td>1988-01-30</td>\n",
       "      <td>Professional</td>\n",
       "      <td>10000.0</td>\n",
       "      <td>2007-08-06</td>\n",
       "      <td>3.0</td>\n",
       "      <td>NaN</td>\n",
       "    </tr>\n",
       "  </tbody>\n",
       "</table>\n",
       "</div>"
      ],
      "text/plain": [
       "  divorce_date     dob_man education_man  income_man   dob_woman  \\\n",
       "0   2006-09-06  1975-12-18     Secondary      2000.0  1983-08-01   \n",
       "1   2008-01-02  1976-11-17  Professional      6000.0  1977-03-13   \n",
       "2   2011-01-02  1969-04-06   Preparatory      5000.0  1970-02-16   \n",
       "3   2011-01-02  1979-11-13     Secondary     12000.0  1981-05-13   \n",
       "4   2011-01-02  1982-09-20  Professional      6000.0  1988-01-30   \n",
       "\n",
       "  education_woman  income_woman marriage_date  marriage_duration  num_kids  \n",
       "0       Secondary        1800.0    2000-06-26                5.0       1.0  \n",
       "1    Professional        6000.0    2001-09-02                7.0       NaN  \n",
       "2    Professional        5000.0    2000-02-02                2.0       2.0  \n",
       "3       Secondary       12000.0    2006-05-13                2.0       NaN  \n",
       "4    Professional       10000.0    2007-08-06                3.0       NaN  "
      ]
     },
     "execution_count": 3,
     "metadata": {},
     "output_type": "execute_result"
    }
   ],
   "source": [
    "ddata.head()"
   ]
  },
  {
   "cell_type": "markdown",
   "id": "b738e5f88adef3a2",
   "metadata": {
    "collapsed": false
   },
   "source": [
    "## Displaying information about the dataset (data types, non-null counts, etc.)"
   ]
  },
  {
   "cell_type": "code",
   "execution_count": 4,
   "id": "dd970a02db469017",
   "metadata": {
    "ExecuteTime": {
     "end_time": "2024-02-06T04:48:50.833419200Z",
     "start_time": "2024-02-06T04:48:50.821432700Z"
    },
    "collapsed": false
   },
   "outputs": [
    {
     "name": "stdout",
     "output_type": "stream",
     "text": [
      "<class 'pandas.core.frame.DataFrame'>\n",
      "RangeIndex: 2209 entries, 0 to 2208\n",
      "Data columns (total 10 columns):\n",
      " #   Column             Non-Null Count  Dtype  \n",
      "---  ------             --------------  -----  \n",
      " 0   divorce_date       2209 non-null   object \n",
      " 1   dob_man            2209 non-null   object \n",
      " 2   education_man      2205 non-null   object \n",
      " 3   income_man         2209 non-null   float64\n",
      " 4   dob_woman          2209 non-null   object \n",
      " 5   education_woman    2209 non-null   object \n",
      " 6   income_woman       2209 non-null   float64\n",
      " 7   marriage_date      2209 non-null   object \n",
      " 8   marriage_duration  2209 non-null   float64\n",
      " 9   num_kids           1333 non-null   float64\n",
      "dtypes: float64(4), object(6)\n",
      "memory usage: 172.7+ KB\n"
     ]
    }
   ],
   "source": [
    "ddata.info()"
   ]
  },
  {
   "cell_type": "markdown",
   "id": "630e08bba2ce5484",
   "metadata": {
    "collapsed": false
   },
   "source": [
    "## Checking for missing values in the dataset"
   ]
  },
  {
   "cell_type": "code",
   "execution_count": 5,
   "id": "598c1125826d6f89",
   "metadata": {
    "ExecuteTime": {
     "end_time": "2024-02-06T04:48:51.408172700Z",
     "start_time": "2024-02-06T04:48:51.396448500Z"
    },
    "collapsed": false
   },
   "outputs": [
    {
     "name": "stdout",
     "output_type": "stream",
     "text": [
      "Missing Values:\n",
      "\n"
     ]
    },
    {
     "data": {
      "text/plain": [
       "divorce_date           0\n",
       "dob_man                0\n",
       "education_man          4\n",
       "income_man             0\n",
       "dob_woman              0\n",
       "education_woman        0\n",
       "income_woman           0\n",
       "marriage_date          0\n",
       "marriage_duration      0\n",
       "num_kids             876\n",
       "dtype: int64"
      ]
     },
     "execution_count": 5,
     "metadata": {},
     "output_type": "execute_result"
    }
   ],
   "source": [
    "missing_values = ddata.isnull().sum()\n",
    "print(\"Missing Values:\\n\")\n",
    "\n",
    "missing_values"
   ]
  },
  {
   "cell_type": "markdown",
   "id": "d45bcd28385ae4ba",
   "metadata": {
    "collapsed": false
   },
   "source": [
    "## Summary statistics for numerical columns"
   ]
  },
  {
   "cell_type": "code",
   "execution_count": 6,
   "id": "f9fc017fc4eeaf4d",
   "metadata": {
    "ExecuteTime": {
     "end_time": "2024-02-06T04:48:51.709200400Z",
     "start_time": "2024-02-06T04:48:51.695567400Z"
    },
    "collapsed": false
   },
   "outputs": [
    {
     "name": "stdout",
     "output_type": "stream",
     "text": [
      "Summary Statistics:\n",
      "\n"
     ]
    },
    {
     "data": {
      "text/html": [
       "<div>\n",
       "<style scoped>\n",
       "    .dataframe tbody tr th:only-of-type {\n",
       "        vertical-align: middle;\n",
       "    }\n",
       "\n",
       "    .dataframe tbody tr th {\n",
       "        vertical-align: top;\n",
       "    }\n",
       "\n",
       "    .dataframe thead th {\n",
       "        text-align: right;\n",
       "    }\n",
       "</style>\n",
       "<table border=\"1\" class=\"dataframe\">\n",
       "  <thead>\n",
       "    <tr style=\"text-align: right;\">\n",
       "      <th></th>\n",
       "      <th>income_man</th>\n",
       "      <th>income_woman</th>\n",
       "      <th>marriage_duration</th>\n",
       "      <th>num_kids</th>\n",
       "    </tr>\n",
       "  </thead>\n",
       "  <tbody>\n",
       "    <tr>\n",
       "      <th>count</th>\n",
       "      <td>2209.000000</td>\n",
       "      <td>2209.000000</td>\n",
       "      <td>2209.000000</td>\n",
       "      <td>1333.000000</td>\n",
       "    </tr>\n",
       "    <tr>\n",
       "      <th>mean</th>\n",
       "      <td>7922.986410</td>\n",
       "      <td>6793.164545</td>\n",
       "      <td>9.606609</td>\n",
       "      <td>1.672918</td>\n",
       "    </tr>\n",
       "    <tr>\n",
       "      <th>std</th>\n",
       "      <td>7693.796497</td>\n",
       "      <td>6562.928689</td>\n",
       "      <td>7.266696</td>\n",
       "      <td>0.732858</td>\n",
       "    </tr>\n",
       "    <tr>\n",
       "      <th>min</th>\n",
       "      <td>3.000000</td>\n",
       "      <td>3.500000</td>\n",
       "      <td>1.000000</td>\n",
       "      <td>1.000000</td>\n",
       "    </tr>\n",
       "    <tr>\n",
       "      <th>25%</th>\n",
       "      <td>3600.000000</td>\n",
       "      <td>3000.000000</td>\n",
       "      <td>4.000000</td>\n",
       "      <td>1.000000</td>\n",
       "    </tr>\n",
       "    <tr>\n",
       "      <th>50%</th>\n",
       "      <td>6000.000000</td>\n",
       "      <td>5000.000000</td>\n",
       "      <td>8.000000</td>\n",
       "      <td>2.000000</td>\n",
       "    </tr>\n",
       "    <tr>\n",
       "      <th>75%</th>\n",
       "      <td>10000.000000</td>\n",
       "      <td>8000.000000</td>\n",
       "      <td>14.000000</td>\n",
       "      <td>2.000000</td>\n",
       "    </tr>\n",
       "    <tr>\n",
       "      <th>max</th>\n",
       "      <td>80000.000000</td>\n",
       "      <td>90000.000000</td>\n",
       "      <td>32.000000</td>\n",
       "      <td>5.000000</td>\n",
       "    </tr>\n",
       "  </tbody>\n",
       "</table>\n",
       "</div>"
      ],
      "text/plain": [
       "         income_man  income_woman  marriage_duration     num_kids\n",
       "count   2209.000000   2209.000000        2209.000000  1333.000000\n",
       "mean    7922.986410   6793.164545           9.606609     1.672918\n",
       "std     7693.796497   6562.928689           7.266696     0.732858\n",
       "min        3.000000      3.500000           1.000000     1.000000\n",
       "25%     3600.000000   3000.000000           4.000000     1.000000\n",
       "50%     6000.000000   5000.000000           8.000000     2.000000\n",
       "75%    10000.000000   8000.000000          14.000000     2.000000\n",
       "max    80000.000000  90000.000000          32.000000     5.000000"
      ]
     },
     "execution_count": 6,
     "metadata": {},
     "output_type": "execute_result"
    }
   ],
   "source": [
    "summary_stats = ddata.describe()\n",
    "print(\"Summary Statistics:\\n\")\n",
    "\n",
    "summary_stats"
   ]
  },
  {
   "cell_type": "markdown",
   "id": "6ec38847f2f1b319",
   "metadata": {
    "collapsed": false
   },
   "source": [
    "## Visualizing the distribution of marriage durations"
   ]
  },
  {
   "cell_type": "code",
   "execution_count": 7,
   "id": "35039fb1ed37bb98",
   "metadata": {
    "ExecuteTime": {
     "end_time": "2024-02-06T04:48:52.769172700Z",
     "start_time": "2024-02-06T04:48:52.067254200Z"
    },
    "collapsed": false
   },
   "outputs": [
    {
     "data": {
      "image/png": "[encoded data removed]",
      "text/plain": [
       "<Figure size 1000x300 with 1 Axes>"
      ]
     },
     "metadata": {},
     "output_type": "display_data"
    }
   ],
   "source": [
    "import matplotlib.pyplot as plt\n",
    "\n",
    "plt.figure(figsize=(10, 3))\n",
    "plt.hist(ddata['marriage_duration'], bins=20, edgecolor='white', alpha=0.7)\n",
    "plt.title('Distribution of Marriage Durations')\n",
    "plt.xlabel('Marriage Duration (years)')\n",
    "plt.ylabel('Frequency')\n",
    "plt.show()"
   ]
  },
  {
   "cell_type": "markdown",
   "id": "d81cd4ee2b4315e2",
   "metadata": {
    "collapsed": false
   },
   "source": [
    "## Correlation matrix for numerical columns"
   ]
  },
  {
   "cell_type": "code",
   "execution_count": 14,
   "id": "cfa2946f07ef732f",
   "metadata": {
    "ExecuteTime": {
     "end_time": "2024-02-06T04:48:52.770678400Z",
     "start_time": "2024-02-06T04:48:52.743508700Z"
    },
    "collapsed": false
   },
   "outputs": [
    {
     "name": "stdout",
     "output_type": "stream",
     "text": [
      "Correlation Matrix:\n",
      "\n"
     ]
    },
    {
     "data": {
      "text/html": [
       "<div>\n",
       "<style scoped>\n",
       "    .dataframe tbody tr th:only-of-type {\n",
       "        vertical-align: middle;\n",
       "    }\n",
       "\n",
       "    .dataframe tbody tr th {\n",
       "        vertical-align: top;\n",
       "    }\n",
       "\n",
       "    .dataframe thead th {\n",
       "        text-align: right;\n",
       "    }\n",
       "</style>\n",
       "<table border=\"1\" class=\"dataframe\">\n",
       "  <thead>\n",
       "    <tr style=\"text-align: right;\">\n",
       "      <th></th>\n",
       "      <th>income_man</th>\n",
       "      <th>income_woman</th>\n",
       "      <th>marriage_duration</th>\n",
       "      <th>num_kids</th>\n",
       "    </tr>\n",
       "  </thead>\n",
       "  <tbody>\n",
       "    <tr>\n",
       "      <th>income_man</th>\n",
       "      <td>1.000000</td>\n",
       "      <td>0.318047</td>\n",
       "      <td>0.085321</td>\n",
       "      <td>0.040848</td>\n",
       "    </tr>\n",
       "    <tr>\n",
       "      <th>income_woman</th>\n",
       "      <td>0.318047</td>\n",
       "      <td>1.000000</td>\n",
       "      <td>0.078677</td>\n",
       "      <td>-0.018015</td>\n",
       "    </tr>\n",
       "    <tr>\n",
       "      <th>marriage_duration</th>\n",
       "      <td>0.085321</td>\n",
       "      <td>0.078677</td>\n",
       "      <td>1.000000</td>\n",
       "      <td>0.447358</td>\n",
       "    </tr>\n",
       "    <tr>\n",
       "      <th>num_kids</th>\n",
       "      <td>0.040848</td>\n",
       "      <td>-0.018015</td>\n",
       "      <td>0.447358</td>\n",
       "      <td>1.000000</td>\n",
       "    </tr>\n",
       "  </tbody>\n",
       "</table>\n",
       "</div>"
      ],
      "text/plain": [
       "                   income_man  income_woman  marriage_duration  num_kids\n",
       "income_man           1.000000      0.318047           0.085321  0.040848\n",
       "income_woman         0.318047      1.000000           0.078677 -0.018015\n",
       "marriage_duration    0.085321      0.078677           1.000000  0.447358\n",
       "num_kids             0.040848     -0.018015           0.447358  1.000000"
      ]
     },
     "execution_count": 14,
     "metadata": {},
     "output_type": "execute_result"
    }
   ],
   "source": [
    "numeric_columns = ddata.select_dtypes(include=['number'])\n",
    "correlation_matrix = numeric_columns.corr()\n",
    "print(\"Correlation Matrix:\\n\")\n",
    "\n",
    "correlation_matrix"
   ]
  },
  {
   "cell_type": "markdown",
   "id": "78851f802aefb95",
   "metadata": {
    "collapsed": false
   },
   "source": [
    "## Splitting the dataset into train and test sets"
   ]
  },
  {
   "cell_type": "code",
   "execution_count": 9,
   "id": "96c447f1da343dac",
   "metadata": {
    "ExecuteTime": {
     "end_time": "2024-02-06T04:48:53.704204300Z",
     "start_time": "2024-02-06T04:48:52.934852300Z"
    },
    "collapsed": false
   },
   "outputs": [],
   "source": [
    "from sklearn.model_selection import train_test_split\n",
    "\n",
    "X = ddata.drop('num_kids', axis=1)\n",
    "y = ddata['num_kids']\n",
    "\n",
    "X_train, X_test, y_train, y_test = train_test_split(X, y, test_size=0.2, random_state=42)"
   ]
  },
  {
   "cell_type": "code",
   "execution_count": 10,
   "id": "efe95f660bf38a93",
   "metadata": {
    "ExecuteTime": {
     "end_time": "2024-02-06T04:48:53.721304100Z",
     "start_time": "2024-02-06T04:48:53.705375900Z"
    },
    "collapsed": false
   },
   "outputs": [
    {
     "data": {
      "text/html": [
       "<div>\n",
       "<style scoped>\n",
       "    .dataframe tbody tr th:only-of-type {\n",
       "        vertical-align: middle;\n",
       "    }\n",
       "\n",
       "    .dataframe tbody tr th {\n",
       "        vertical-align: top;\n",
       "    }\n",
       "\n",
       "    .dataframe thead th {\n",
       "        text-align: right;\n",
       "    }\n",
       "</style>\n",
       "<table border=\"1\" class=\"dataframe\">\n",
       "  <thead>\n",
       "    <tr style=\"text-align: right;\">\n",
       "      <th></th>\n",
       "      <th>divorce_date</th>\n",
       "      <th>dob_man</th>\n",
       "      <th>education_man</th>\n",
       "      <th>income_man</th>\n",
       "      <th>dob_woman</th>\n",
       "      <th>education_woman</th>\n",
       "      <th>income_woman</th>\n",
       "      <th>marriage_date</th>\n",
       "      <th>marriage_duration</th>\n",
       "    </tr>\n",
       "  </thead>\n",
       "  <tbody>\n",
       "    <tr>\n",
       "      <th>841</th>\n",
       "      <td>2008-12-05</td>\n",
       "      <td>1951-10-28</td>\n",
       "      <td>Professional</td>\n",
       "      <td>10000.0</td>\n",
       "      <td>1960-03-30</td>\n",
       "      <td>Preparatory</td>\n",
       "      <td>9000.0</td>\n",
       "      <td>1981-08-14</td>\n",
       "      <td>27.0</td>\n",
       "    </tr>\n",
       "    <tr>\n",
       "      <th>1973</th>\n",
       "      <td>2004-04-28</td>\n",
       "      <td>1955-09-14</td>\n",
       "      <td>Primary</td>\n",
       "      <td>1200.0</td>\n",
       "      <td>1958-06-15</td>\n",
       "      <td>Primary</td>\n",
       "      <td>1900.0</td>\n",
       "      <td>1978-03-13</td>\n",
       "      <td>25.0</td>\n",
       "    </tr>\n",
       "    <tr>\n",
       "      <th>798</th>\n",
       "      <td>2004-11-11</td>\n",
       "      <td>1970-05-30</td>\n",
       "      <td>Professional</td>\n",
       "      <td>6638.0</td>\n",
       "      <td>1971-09-12</td>\n",
       "      <td>Professional</td>\n",
       "      <td>6638.0</td>\n",
       "      <td>1995-12-01</td>\n",
       "      <td>9.0</td>\n",
       "    </tr>\n",
       "    <tr>\n",
       "      <th>1234</th>\n",
       "      <td>2004-12-17</td>\n",
       "      <td>1973-11-16</td>\n",
       "      <td>Preparatory</td>\n",
       "      <td>2400.0</td>\n",
       "      <td>1978-08-21</td>\n",
       "      <td>Professional</td>\n",
       "      <td>15000.0</td>\n",
       "      <td>1997-03-25</td>\n",
       "      <td>7.0</td>\n",
       "    </tr>\n",
       "    <tr>\n",
       "      <th>1362</th>\n",
       "      <td>2008-08-19</td>\n",
       "      <td>1980-02-12</td>\n",
       "      <td>Preparatory</td>\n",
       "      <td>4000.0</td>\n",
       "      <td>1977-11-19</td>\n",
       "      <td>Preparatory</td>\n",
       "      <td>6500.0</td>\n",
       "      <td>2005-04-15</td>\n",
       "      <td>30.0</td>\n",
       "    </tr>\n",
       "    <tr>\n",
       "      <th>...</th>\n",
       "      <td>...</td>\n",
       "      <td>...</td>\n",
       "      <td>...</td>\n",
       "      <td>...</td>\n",
       "      <td>...</td>\n",
       "      <td>...</td>\n",
       "      <td>...</td>\n",
       "      <td>...</td>\n",
       "      <td>...</td>\n",
       "    </tr>\n",
       "    <tr>\n",
       "      <th>1638</th>\n",
       "      <td>2010-02-23</td>\n",
       "      <td>1975-04-28</td>\n",
       "      <td>Professional</td>\n",
       "      <td>6000.0</td>\n",
       "      <td>1976-10-18</td>\n",
       "      <td>Professional</td>\n",
       "      <td>10000.0</td>\n",
       "      <td>2007-04-26</td>\n",
       "      <td>1.0</td>\n",
       "    </tr>\n",
       "    <tr>\n",
       "      <th>1095</th>\n",
       "      <td>2005-12-15</td>\n",
       "      <td>1951-03-11</td>\n",
       "      <td>Preparatory</td>\n",
       "      <td>15000.0</td>\n",
       "      <td>1954-01-12</td>\n",
       "      <td>Professional</td>\n",
       "      <td>15000.0</td>\n",
       "      <td>1982-12-22</td>\n",
       "      <td>23.0</td>\n",
       "    </tr>\n",
       "    <tr>\n",
       "      <th>1130</th>\n",
       "      <td>2004-06-16</td>\n",
       "      <td>1953-10-24</td>\n",
       "      <td>Professional</td>\n",
       "      <td>8000.0</td>\n",
       "      <td>1966-12-07</td>\n",
       "      <td>Professional</td>\n",
       "      <td>8000.0</td>\n",
       "      <td>1996-03-29</td>\n",
       "      <td>8.0</td>\n",
       "    </tr>\n",
       "    <tr>\n",
       "      <th>1294</th>\n",
       "      <td>2008-09-18</td>\n",
       "      <td>1957-08-16</td>\n",
       "      <td>Secondary</td>\n",
       "      <td>2200.0</td>\n",
       "      <td>1955-05-22</td>\n",
       "      <td>Professional</td>\n",
       "      <td>4000.0</td>\n",
       "      <td>1978-04-05</td>\n",
       "      <td>30.0</td>\n",
       "    </tr>\n",
       "    <tr>\n",
       "      <th>860</th>\n",
       "      <td>2006-12-07</td>\n",
       "      <td>1969-12-28</td>\n",
       "      <td>Professional</td>\n",
       "      <td>8300.0</td>\n",
       "      <td>1969-02-23</td>\n",
       "      <td>Professional</td>\n",
       "      <td>3000.0</td>\n",
       "      <td>1992-04-28</td>\n",
       "      <td>14.0</td>\n",
       "    </tr>\n",
       "  </tbody>\n",
       "</table>\n",
       "<p>1767 rows × 9 columns</p>\n",
       "</div>"
      ],
      "text/plain": [
       "     divorce_date     dob_man education_man  income_man   dob_woman  \\\n",
       "841    2008-12-05  1951-10-28  Professional     10000.0  1960-03-30   \n",
       "1973   2004-04-28  1955-09-14       Primary      1200.0  1958-06-15   \n",
       "798    2004-11-11  1970-05-30  Professional      6638.0  1971-09-12   \n",
       "1234   2004-12-17  1973-11-16   Preparatory      2400.0  1978-08-21   \n",
       "1362   2008-08-19  1980-02-12   Preparatory      4000.0  1977-11-19   \n",
       "...           ...         ...           ...         ...         ...   \n",
       "1638   2010-02-23  1975-04-28  Professional      6000.0  1976-10-18   \n",
       "1095   2005-12-15  1951-03-11   Preparatory     15000.0  1954-01-12   \n",
       "1130   2004-06-16  1953-10-24  Professional      8000.0  1966-12-07   \n",
       "1294   2008-09-18  1957-08-16     Secondary      2200.0  1955-05-22   \n",
       "860    2006-12-07  1969-12-28  Professional      8300.0  1969-02-23   \n",
       "\n",
       "     education_woman  income_woman marriage_date  marriage_duration  \n",
       "841      Preparatory        9000.0    1981-08-14               27.0  \n",
       "1973         Primary        1900.0    1978-03-13               25.0  \n",
       "798     Professional        6638.0    1995-12-01                9.0  \n",
       "1234    Professional       15000.0    1997-03-25                7.0  \n",
       "1362     Preparatory        6500.0    2005-04-15               30.0  \n",
       "...              ...           ...           ...                ...  \n",
       "1638    Professional       10000.0    2007-04-26                1.0  \n",
       "1095    Professional       15000.0    1982-12-22               23.0  \n",
       "1130    Professional        8000.0    1996-03-29                8.0  \n",
       "1294    Professional        4000.0    1978-04-05               30.0  \n",
       "860     Professional        3000.0    1992-04-28               14.0  \n",
       "\n",
       "[1767 rows x 9 columns]"
      ]
     },
     "execution_count": 10,
     "metadata": {},
     "output_type": "execute_result"
    }
   ],
   "source": [
    "X_train"
   ]
  },
  {
   "cell_type": "code",
   "execution_count": 11,
   "id": "4c5cb57107402f9d",
   "metadata": {
    "ExecuteTime": {
     "end_time": "2024-02-06T04:48:55.172663200Z",
     "start_time": "2024-02-06T04:48:55.151951400Z"
    },
    "collapsed": false
   },
   "outputs": [
    {
     "data": {
      "text/html": [
       "<div>\n",
       "<style scoped>\n",
       "    .dataframe tbody tr th:only-of-type {\n",
       "        vertical-align: middle;\n",
       "    }\n",
       "\n",
       "    .dataframe tbody tr th {\n",
       "        vertical-align: top;\n",
       "    }\n",
       "\n",
       "    .dataframe thead th {\n",
       "        text-align: right;\n",
       "    }\n",
       "</style>\n",
       "<table border=\"1\" class=\"dataframe\">\n",
       "  <thead>\n",
       "    <tr style=\"text-align: right;\">\n",
       "      <th></th>\n",
       "      <th>divorce_date</th>\n",
       "      <th>dob_man</th>\n",
       "      <th>education_man</th>\n",
       "      <th>income_man</th>\n",
       "      <th>dob_woman</th>\n",
       "      <th>education_woman</th>\n",
       "      <th>income_woman</th>\n",
       "      <th>marriage_date</th>\n",
       "      <th>marriage_duration</th>\n",
       "    </tr>\n",
       "  </thead>\n",
       "  <tbody>\n",
       "    <tr>\n",
       "      <th>855</th>\n",
       "      <td>2002-12-07</td>\n",
       "      <td>1966-11-16</td>\n",
       "      <td>Preparatory</td>\n",
       "      <td>8000.0</td>\n",
       "      <td>1970-07-26</td>\n",
       "      <td>Professional</td>\n",
       "      <td>3000.0</td>\n",
       "      <td>1993-02-04</td>\n",
       "      <td>9.0</td>\n",
       "    </tr>\n",
       "    <tr>\n",
       "      <th>1546</th>\n",
       "      <td>2006-11-21</td>\n",
       "      <td>1969-02-06</td>\n",
       "      <td>Professional</td>\n",
       "      <td>7000.0</td>\n",
       "      <td>1974-05-04</td>\n",
       "      <td>Professional</td>\n",
       "      <td>7000.0</td>\n",
       "      <td>2003-01-08</td>\n",
       "      <td>3.0</td>\n",
       "    </tr>\n",
       "    <tr>\n",
       "      <th>1473</th>\n",
       "      <td>2007-11-20</td>\n",
       "      <td>1981-08-15</td>\n",
       "      <td>Secondary</td>\n",
       "      <td>2000.0</td>\n",
       "      <td>1981-06-19</td>\n",
       "      <td>Secondary</td>\n",
       "      <td>2000.0</td>\n",
       "      <td>1998-04-13</td>\n",
       "      <td>9.0</td>\n",
       "    </tr>\n",
       "    <tr>\n",
       "      <th>430</th>\n",
       "      <td>2008-07-02</td>\n",
       "      <td>1968-02-14</td>\n",
       "      <td>Professional</td>\n",
       "      <td>6000.0</td>\n",
       "      <td>1967-06-05</td>\n",
       "      <td>Professional</td>\n",
       "      <td>4000.0</td>\n",
       "      <td>1993-06-05</td>\n",
       "      <td>13.0</td>\n",
       "    </tr>\n",
       "    <tr>\n",
       "      <th>1557</th>\n",
       "      <td>2005-12-21</td>\n",
       "      <td>1963-12-24</td>\n",
       "      <td>Professional</td>\n",
       "      <td>16000.0</td>\n",
       "      <td>1968-08-23</td>\n",
       "      <td>Professional</td>\n",
       "      <td>16000.0</td>\n",
       "      <td>1994-03-06</td>\n",
       "      <td>11.0</td>\n",
       "    </tr>\n",
       "    <tr>\n",
       "      <th>...</th>\n",
       "      <td>...</td>\n",
       "      <td>...</td>\n",
       "      <td>...</td>\n",
       "      <td>...</td>\n",
       "      <td>...</td>\n",
       "      <td>...</td>\n",
       "      <td>...</td>\n",
       "      <td>...</td>\n",
       "      <td>...</td>\n",
       "    </tr>\n",
       "    <tr>\n",
       "      <th>1319</th>\n",
       "      <td>2004-02-19</td>\n",
       "      <td>1954-06-12</td>\n",
       "      <td>Secondary</td>\n",
       "      <td>5000.0</td>\n",
       "      <td>1950-04-25</td>\n",
       "      <td>Preparatory</td>\n",
       "      <td>3000.0</td>\n",
       "      <td>1990-08-28</td>\n",
       "      <td>13.0</td>\n",
       "    </tr>\n",
       "    <tr>\n",
       "      <th>1854</th>\n",
       "      <td>2003-09-26</td>\n",
       "      <td>1961-01-09</td>\n",
       "      <td>Professional</td>\n",
       "      <td>3000.0</td>\n",
       "      <td>1966-01-31</td>\n",
       "      <td>Secondary</td>\n",
       "      <td>2400.0</td>\n",
       "      <td>2002-05-31</td>\n",
       "      <td>1.0</td>\n",
       "    </tr>\n",
       "    <tr>\n",
       "      <th>1931</th>\n",
       "      <td>2007-09-27</td>\n",
       "      <td>1970-02-07</td>\n",
       "      <td>Preparatory</td>\n",
       "      <td>7000.0</td>\n",
       "      <td>1970-06-21</td>\n",
       "      <td>Professional</td>\n",
       "      <td>7000.0</td>\n",
       "      <td>1989-10-06</td>\n",
       "      <td>18.0</td>\n",
       "    </tr>\n",
       "    <tr>\n",
       "      <th>59</th>\n",
       "      <td>2009-02-01</td>\n",
       "      <td>1970-09-22</td>\n",
       "      <td>Secondary</td>\n",
       "      <td>20000.0</td>\n",
       "      <td>1974-09-06</td>\n",
       "      <td>Professional</td>\n",
       "      <td>8000.0</td>\n",
       "      <td>2003-07-23</td>\n",
       "      <td>5.0</td>\n",
       "    </tr>\n",
       "    <tr>\n",
       "      <th>71</th>\n",
       "      <td>2009-02-03</td>\n",
       "      <td>1959-04-03</td>\n",
       "      <td>Professional</td>\n",
       "      <td>18000.0</td>\n",
       "      <td>1961-07-25</td>\n",
       "      <td>Professional</td>\n",
       "      <td>12000.0</td>\n",
       "      <td>1988-09-23</td>\n",
       "      <td>20.0</td>\n",
       "    </tr>\n",
       "  </tbody>\n",
       "</table>\n",
       "<p>442 rows × 9 columns</p>\n",
       "</div>"
      ],
      "text/plain": [
       "     divorce_date     dob_man education_man  income_man   dob_woman  \\\n",
       "855    2002-12-07  1966-11-16   Preparatory      8000.0  1970-07-26   \n",
       "1546   2006-11-21  1969-02-06  Professional      7000.0  1974-05-04   \n",
       "1473   2007-11-20  1981-08-15     Secondary      2000.0  1981-06-19   \n",
       "430    2008-07-02  1968-02-14  Professional      6000.0  1967-06-05   \n",
       "1557   2005-12-21  1963-12-24  Professional     16000.0  1968-08-23   \n",
       "...           ...         ...           ...         ...         ...   \n",
       "1319   2004-02-19  1954-06-12     Secondary      5000.0  1950-04-25   \n",
       "1854   2003-09-26  1961-01-09  Professional      3000.0  1966-01-31   \n",
       "1931   2007-09-27  1970-02-07   Preparatory      7000.0  1970-06-21   \n",
       "59     2009-02-01  1970-09-22     Secondary     20000.0  1974-09-06   \n",
       "71     2009-02-03  1959-04-03  Professional     18000.0  1961-07-25   \n",
       "\n",
       "     education_woman  income_woman marriage_date  marriage_duration  \n",
       "855     Professional        3000.0    1993-02-04                9.0  \n",
       "1546    Professional        7000.0    2003-01-08                3.0  \n",
       "1473       Secondary        2000.0    1998-04-13                9.0  \n",
       "430     Professional        4000.0    1993-06-05               13.0  \n",
       "1557    Professional       16000.0    1994-03-06               11.0  \n",
       "...              ...           ...           ...                ...  \n",
       "1319     Preparatory        3000.0    1990-08-28               13.0  \n",
       "1854       Secondary        2400.0    2002-05-31                1.0  \n",
       "1931    Professional        7000.0    1989-10-06               18.0  \n",
       "59      Professional        8000.0    2003-07-23                5.0  \n",
       "71      Professional       12000.0    1988-09-23               20.0  \n",
       "\n",
       "[442 rows x 9 columns]"
      ]
     },
     "execution_count": 11,
     "metadata": {},
     "output_type": "execute_result"
    }
   ],
   "source": [
    "X_test"
   ]
  },
  {
   "cell_type": "code",
   "execution_count": 12,
   "id": "ef83e073d7d6d527",
   "metadata": {
    "ExecuteTime": {
     "end_time": "2024-02-06T04:48:55.760611700Z",
     "start_time": "2024-02-06T04:48:55.738484800Z"
    },
    "collapsed": false
   },
   "outputs": [
    {
     "data": {
      "text/plain": [
       "841     3.0\n",
       "1973    3.0\n",
       "798     2.0\n",
       "1234    NaN\n",
       "1362    1.0\n",
       "       ... \n",
       "1638    NaN\n",
       "1095    2.0\n",
       "1130    NaN\n",
       "1294    1.0\n",
       "860     2.0\n",
       "Name: num_kids, Length: 1767, dtype: float64"
      ]
     },
     "execution_count": 12,
     "metadata": {},
     "output_type": "execute_result"
    }
   ],
   "source": [
    "y_train"
   ]
  },
  {
   "cell_type": "code",
   "execution_count": 13,
   "id": "32fd4d7f63e97871",
   "metadata": {
    "ExecuteTime": {
     "end_time": "2024-02-06T04:48:56.779708700Z",
     "start_time": "2024-02-06T04:48:56.748401400Z"
    },
    "collapsed": false
   },
   "outputs": [
    {
     "data": {
      "text/plain": [
       "855     NaN\n",
       "1546    NaN\n",
       "1473    2.0\n",
       "430     NaN\n",
       "1557    2.0\n",
       "       ... \n",
       "1319    2.0\n",
       "1854    NaN\n",
       "1931    1.0\n",
       "59      NaN\n",
       "71      2.0\n",
       "Name: num_kids, Length: 442, dtype: float64"
      ]
     },
     "execution_count": 13,
     "metadata": {},
     "output_type": "execute_result"
    }
   ],
   "source": [
    "y_test"
   ]
  }
 ],
 "metadata": {
  "kernelspec": {
   "display_name": "Python 3",
   "language": "python",
   "name": "python3"
  },
  "language_info": {
   "codemirror_mode": {
    "name": "ipython",
    "version": 3
   },
   "file_extension": ".py",
   "mimetype": "text/x-python",
   "name": "python",
   "nbconvert_exporter": "python",
   "pygments_lexer": "ipython3",
   "version": "3.10.14"
  }
 },
 "nbformat": 4,
 "nbformat_minor": 5
}
